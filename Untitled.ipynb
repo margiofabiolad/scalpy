{
 "cells": [
  {
   "cell_type": "code",
   "execution_count": 4,
   "id": "c04569ac-7f4a-4aba-a8fb-ea20bd9c3f9f",
   "metadata": {},
   "outputs": [],
   "source": [
    "import scalpy\n"
   ]
  },
  {
   "cell_type": "code",
   "execution_count": 5,
   "id": "1cad1bba-746a-43eb-a579-198f8fc84bb9",
   "metadata": {},
   "outputs": [
    {
     "name": "stdout",
     "output_type": "stream",
     "text": [
      "\n",
      "Note: you may need to restart the kernel to use updated packages.\n"
     ]
    }
   ],
   "source": [
    "conda env export > environment.yml"
   ]
  },
  {
   "cell_type": "code",
   "execution_count": 6,
   "id": "47554910-a4c8-44cf-8576-7af105317266",
   "metadata": {},
   "outputs": [
    {
     "ename": "ModuleNotFoundError",
     "evalue": "No module named 'scalpy.scalar'",
     "output_type": "error",
     "traceback": [
      "\u001b[0;31m---------------------------------------------------------------------------\u001b[0m",
      "\u001b[0;31mModuleNotFoundError\u001b[0m                       Traceback (most recent call last)",
      "Input \u001b[0;32mIn [6]\u001b[0m, in \u001b[0;36m<cell line: 1>\u001b[0;34m()\u001b[0m\n\u001b[0;32m----> 1\u001b[0m \u001b[38;5;28;01mfrom\u001b[39;00m \u001b[38;5;21;01mscalpy\u001b[39;00m\u001b[38;5;21;01m.\u001b[39;00m\u001b[38;5;21;01mscalar\u001b[39;00m \u001b[38;5;28;01mimport\u001b[39;00m \u001b[38;5;241m*\u001b[39m\n\u001b[1;32m      2\u001b[0m x \u001b[38;5;241m=\u001b[39m scalarpow(\u001b[38;5;241m2.0\u001b[39m,\u001b[38;5;241m0.2\u001b[39m,\u001b[38;5;241m2\u001b[39m)\n",
      "\u001b[0;31mModuleNotFoundError\u001b[0m: No module named 'scalpy.scalar'"
     ]
    }
   ],
   "source": [
    "from scalpy.scalar import *\n",
    ">>> x = scalarpow(2.0,0.2,2)"
   ]
  },
  {
   "cell_type": "code",
   "execution_count": null,
   "id": "598fdc83-61ec-49d7-800c-9eed10d77eed",
   "metadata": {},
   "outputs": [],
   "source": []
  }
 ],
 "metadata": {
  "kernelspec": {
   "display_name": "scalpy",
   "language": "python",
   "name": "scalpy"
  },
  "language_info": {
   "codemirror_mode": {
    "name": "ipython",
    "version": 3
   },
   "file_extension": ".py",
   "mimetype": "text/x-python",
   "name": "python",
   "nbconvert_exporter": "python",
   "pygments_lexer": "ipython3",
   "version": "3.9.12"
  }
 },
 "nbformat": 4,
 "nbformat_minor": 5
}
