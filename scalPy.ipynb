{
 "cells": [
  {
   "cell_type": "code",
   "execution_count": 2,
   "id": "43d6bfa8-3de8-4c43-8d95-9e91ee645390",
   "metadata": {},
   "outputs": [],
   "source": [
    "import scalpy"
   ]
  },
  {
   "cell_type": "code",
   "execution_count": 3,
   "id": "c5ee4885-744b-45df-bbd7-e5c4cdf56b3a",
   "metadata": {},
   "outputs": [
    {
     "ename": "ModuleNotFoundError",
     "evalue": "No module named 'scalpy.scalar'",
     "output_type": "error",
     "traceback": [
      "\u001b[0;31m---------------------------------------------------------------------------\u001b[0m",
      "\u001b[0;31mModuleNotFoundError\u001b[0m                       Traceback (most recent call last)",
      "Input \u001b[0;32mIn [3]\u001b[0m, in \u001b[0;36m<cell line: 1>\u001b[0;34m()\u001b[0m\n\u001b[0;32m----> 1\u001b[0m \u001b[38;5;28;01mfrom\u001b[39;00m \u001b[38;5;21;01mscalpy\u001b[39;00m\u001b[38;5;21;01m.\u001b[39;00m\u001b[38;5;21;01mscalar\u001b[39;00m \u001b[38;5;28;01mimport\u001b[39;00m \u001b[38;5;241m*\u001b[39m\n\u001b[1;32m      2\u001b[0m x \u001b[38;5;241m=\u001b[39m scalarpow(\u001b[38;5;241m2.0\u001b[39m,\u001b[38;5;241m0.2\u001b[39m,\u001b[38;5;241m2\u001b[39m)\n\u001b[1;32m      3\u001b[0m y \u001b[38;5;241m=\u001b[39m scalarexp(\u001b[38;5;241m2\u001b[39m,\u001b[38;5;241m5\u001b[39m)\n",
      "\u001b[0;31mModuleNotFoundError\u001b[0m: No module named 'scalpy.scalar'"
     ]
    }
   ],
   "source": [
    "from scalpy.scalar import *\n",
    "x = scalarpow(2.0,0.2,2)\n",
    "y = scalarexp(2,5)"
   ]
  },
  {
   "cell_type": "code",
   "execution_count": null,
   "id": "6e03d1a4-4ac8-4dd0-a027-50aaf5f5e8ae",
   "metadata": {},
   "outputs": [],
   "source": []
  }
 ],
 "metadata": {
  "kernelspec": {
   "display_name": "scalpy",
   "language": "python",
   "name": "scalpy"
  },
  "language_info": {
   "codemirror_mode": {
    "name": "ipython",
    "version": 3
   },
   "file_extension": ".py",
   "mimetype": "text/x-python",
   "name": "python",
   "nbconvert_exporter": "python",
   "pygments_lexer": "ipython3",
   "version": "3.9.12"
  }
 },
 "nbformat": 4,
 "nbformat_minor": 5
}
